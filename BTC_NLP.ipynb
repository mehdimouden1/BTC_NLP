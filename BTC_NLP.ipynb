{
 "cells": [
  {
   "cell_type": "code",
   "execution_count": 4,
   "id": "initial_id",
   "metadata": {
    "collapsed": true,
    "ExecuteTime": {
     "end_time": "2023-10-30T18:31:22.437472Z",
     "start_time": "2023-10-30T18:23:29.339194Z"
    }
   },
   "outputs": [
    {
     "name": "stderr",
     "output_type": "stream",
     "text": [
      "[nltk_data] Downloading package vader_lexicon to\n",
      "[nltk_data]     /Users/mehdimouden/nltk_data...\n",
      "[nltk_data]   Package vader_lexicon is already up-to-date!\n",
      "/var/folders/rh/41k8kg5x2js8n7lgg1fb7bj40000gn/T/ipykernel_6714/3052469637.py:9: DtypeWarning: Columns (0,1,2,3,4,8) have mixed types. Specify dtype option on import or set low_memory=False.\n",
      "  df = pd.read_csv('tweets.csv', sep=';')\n"
     ]
    },
    {
     "data": {
      "text/plain": "                    id           user             fullname  url  \\\n0  1132977055300300800   KamdemAbdiel        Abdiel kamdem  NaN   \n1  1132977073402736640      bitcointe            Bitcointe  NaN   \n2  1132977023893139456      3eyedbran  Bran - 3 Eyed Raven  NaN   \n3  1132977089089556481  DetroitCrypto          J. Scardina  NaN   \n4  1132977092340191232   mmursaleen72   Muhammad Mursaleen  NaN   \n\n                timestamp  replies  likes  retweets  \\\n0  2019-05-27 11:49:14+00      0.0    0.0       0.0   \n1  2019-05-27 11:49:18+00      0.0    0.0       0.0   \n2  2019-05-27 11:49:06+00      0.0    2.0       1.0   \n3  2019-05-27 11:49:22+00      0.0    0.0       0.0   \n4  2019-05-27 11:49:23+00      0.0    0.0       0.0   \n\n                                                text  \n0  È appena uscito un nuovo video! LES CRYPTOMONN...  \n1  Cardano: Digitize Currencies; EOS https://t.co...  \n2  Another Test tweet that wasn't caught in the s...  \n3  Current Crypto Prices! \\n\\nBTC: $8721.99 USD\\n...  \n4  Spiv (Nosar Baz): BITCOIN Is An Asset &amp; NO...  ",
      "text/html": "<div>\n<style scoped>\n    .dataframe tbody tr th:only-of-type {\n        vertical-align: middle;\n    }\n\n    .dataframe tbody tr th {\n        vertical-align: top;\n    }\n\n    .dataframe thead th {\n        text-align: right;\n    }\n</style>\n<table border=\"1\" class=\"dataframe\">\n  <thead>\n    <tr style=\"text-align: right;\">\n      <th></th>\n      <th>id</th>\n      <th>user</th>\n      <th>fullname</th>\n      <th>url</th>\n      <th>timestamp</th>\n      <th>replies</th>\n      <th>likes</th>\n      <th>retweets</th>\n      <th>text</th>\n    </tr>\n  </thead>\n  <tbody>\n    <tr>\n      <th>0</th>\n      <td>1132977055300300800</td>\n      <td>KamdemAbdiel</td>\n      <td>Abdiel kamdem</td>\n      <td>NaN</td>\n      <td>2019-05-27 11:49:14+00</td>\n      <td>0.0</td>\n      <td>0.0</td>\n      <td>0.0</td>\n      <td>È appena uscito un nuovo video! LES CRYPTOMONN...</td>\n    </tr>\n    <tr>\n      <th>1</th>\n      <td>1132977073402736640</td>\n      <td>bitcointe</td>\n      <td>Bitcointe</td>\n      <td>NaN</td>\n      <td>2019-05-27 11:49:18+00</td>\n      <td>0.0</td>\n      <td>0.0</td>\n      <td>0.0</td>\n      <td>Cardano: Digitize Currencies; EOS https://t.co...</td>\n    </tr>\n    <tr>\n      <th>2</th>\n      <td>1132977023893139456</td>\n      <td>3eyedbran</td>\n      <td>Bran - 3 Eyed Raven</td>\n      <td>NaN</td>\n      <td>2019-05-27 11:49:06+00</td>\n      <td>0.0</td>\n      <td>2.0</td>\n      <td>1.0</td>\n      <td>Another Test tweet that wasn't caught in the s...</td>\n    </tr>\n    <tr>\n      <th>3</th>\n      <td>1132977089089556481</td>\n      <td>DetroitCrypto</td>\n      <td>J. Scardina</td>\n      <td>NaN</td>\n      <td>2019-05-27 11:49:22+00</td>\n      <td>0.0</td>\n      <td>0.0</td>\n      <td>0.0</td>\n      <td>Current Crypto Prices! \\n\\nBTC: $8721.99 USD\\n...</td>\n    </tr>\n    <tr>\n      <th>4</th>\n      <td>1132977092340191232</td>\n      <td>mmursaleen72</td>\n      <td>Muhammad Mursaleen</td>\n      <td>NaN</td>\n      <td>2019-05-27 11:49:23+00</td>\n      <td>0.0</td>\n      <td>0.0</td>\n      <td>0.0</td>\n      <td>Spiv (Nosar Baz): BITCOIN Is An Asset &amp;amp; NO...</td>\n    </tr>\n  </tbody>\n</table>\n</div>"
     },
     "execution_count": 4,
     "metadata": {},
     "output_type": "execute_result"
    }
   ],
   "source": [
    "import pandas as pd\n",
    "import nltk\n",
    "from nltk.sentiment.vader import SentimentIntensityAnalyzer\n",
    "import re\n",
    "nltk.download('vader_lexicon')\n",
    "\n",
    "# Load your CSV data into a DataFrame\n",
    "df = pd.read_csv('tweets.csv', sep=';')\n",
    "df.head()"
   ]
  },
  {
   "cell_type": "code",
   "execution_count": 15,
   "outputs": [
    {
     "name": "stderr",
     "output_type": "stream",
     "text": [
      "/Users/mehdimouden/Desktop/EPFL/IF/MA3/Fin Machine Learning/BTC NLP/venv/lib/python3.9/site-packages/urllib3/__init__.py:34: NotOpenSSLWarning: urllib3 v2.0 only supports OpenSSL 1.1.1+, currently the 'ssl' module is compiled with 'LibreSSL 2.8.3'. See: https://github.com/urllib3/urllib3/issues/3020\n",
      "  warnings.warn(\n"
     ]
    }
   ],
   "source": [
    "from transformers import BertTokenizer, BertForSequenceClassification\n",
    "import torch\n",
    "from tqdm import tqdm"
   ],
   "metadata": {
    "collapsed": false,
    "ExecuteTime": {
     "end_time": "2023-10-31T09:24:22.179198Z",
     "start_time": "2023-10-31T09:24:15.693430Z"
    }
   },
   "id": "67d3951c3cce6586"
  },
  {
   "cell_type": "code",
   "execution_count": 7,
   "outputs": [],
   "source": [
    "# Define a function to preprocess the text by removing hashtags, non-English characters, and URLs\n",
    "def preprocess_text(text):\n",
    "    if isinstance(text, str):  # Check if 'text' is a string\n",
    "        # Remove URLs\n",
    "        text = re.sub(r'http\\S+', '', text)\n",
    "        text = re.sub(r'www\\S+', '', text)\n",
    "        # Remove hashtags\n",
    "        text = re.sub(r'#\\w+', '', text)\n",
    "        # Remove non-English alphabet characters and digits\n",
    "        text = re.sub(r'[^a-zA-Z\\s]', '', text)\n",
    "        # Remove extra whitespace\n",
    "        text = ' '.join(text.split())\n",
    "    else:\n",
    "        # Handle missing values (e.g., set them to an empty string)\n",
    "        text = ''\n",
    "    return text"
   ],
   "metadata": {
    "collapsed": false,
    "ExecuteTime": {
     "end_time": "2023-10-30T18:37:28.637493Z",
     "start_time": "2023-10-30T18:37:28.632887Z"
    }
   },
   "id": "5e698e7367762dc5"
  },
  {
   "cell_type": "code",
   "execution_count": 8,
   "outputs": [
    {
     "data": {
      "text/plain": "                    id           user             fullname  url  \\\n0  1132977055300300800   KamdemAbdiel        Abdiel kamdem  NaN   \n1  1132977073402736640      bitcointe            Bitcointe  NaN   \n2  1132977023893139456      3eyedbran  Bran - 3 Eyed Raven  NaN   \n3  1132977089089556481  DetroitCrypto          J. Scardina  NaN   \n4  1132977092340191232   mmursaleen72   Muhammad Mursaleen  NaN   \n\n                timestamp  replies  likes  retweets  \\\n0  2019-05-27 11:49:14+00      0.0    0.0       0.0   \n1  2019-05-27 11:49:18+00      0.0    0.0       0.0   \n2  2019-05-27 11:49:06+00      0.0    2.0       1.0   \n3  2019-05-27 11:49:22+00      0.0    0.0       0.0   \n4  2019-05-27 11:49:23+00      0.0    0.0       0.0   \n\n                                                text  \n0  appena uscito un nuovo video LES CRYPTOMONNAIE...  \n1  Cardano Digitize Currencies EOS ROI ATampT Bit...  \n2  Another Test tweet that wasnt caught in the st...  \n3  Current Crypto Prices BTC USD ETH USD LTC USD ...  \n4  Spiv Nosar Baz BITCOIN Is An Asset amp NOT A C...  ",
      "text/html": "<div>\n<style scoped>\n    .dataframe tbody tr th:only-of-type {\n        vertical-align: middle;\n    }\n\n    .dataframe tbody tr th {\n        vertical-align: top;\n    }\n\n    .dataframe thead th {\n        text-align: right;\n    }\n</style>\n<table border=\"1\" class=\"dataframe\">\n  <thead>\n    <tr style=\"text-align: right;\">\n      <th></th>\n      <th>id</th>\n      <th>user</th>\n      <th>fullname</th>\n      <th>url</th>\n      <th>timestamp</th>\n      <th>replies</th>\n      <th>likes</th>\n      <th>retweets</th>\n      <th>text</th>\n    </tr>\n  </thead>\n  <tbody>\n    <tr>\n      <th>0</th>\n      <td>1132977055300300800</td>\n      <td>KamdemAbdiel</td>\n      <td>Abdiel kamdem</td>\n      <td>NaN</td>\n      <td>2019-05-27 11:49:14+00</td>\n      <td>0.0</td>\n      <td>0.0</td>\n      <td>0.0</td>\n      <td>appena uscito un nuovo video LES CRYPTOMONNAIE...</td>\n    </tr>\n    <tr>\n      <th>1</th>\n      <td>1132977073402736640</td>\n      <td>bitcointe</td>\n      <td>Bitcointe</td>\n      <td>NaN</td>\n      <td>2019-05-27 11:49:18+00</td>\n      <td>0.0</td>\n      <td>0.0</td>\n      <td>0.0</td>\n      <td>Cardano Digitize Currencies EOS ROI ATampT Bit...</td>\n    </tr>\n    <tr>\n      <th>2</th>\n      <td>1132977023893139456</td>\n      <td>3eyedbran</td>\n      <td>Bran - 3 Eyed Raven</td>\n      <td>NaN</td>\n      <td>2019-05-27 11:49:06+00</td>\n      <td>0.0</td>\n      <td>2.0</td>\n      <td>1.0</td>\n      <td>Another Test tweet that wasnt caught in the st...</td>\n    </tr>\n    <tr>\n      <th>3</th>\n      <td>1132977089089556481</td>\n      <td>DetroitCrypto</td>\n      <td>J. Scardina</td>\n      <td>NaN</td>\n      <td>2019-05-27 11:49:22+00</td>\n      <td>0.0</td>\n      <td>0.0</td>\n      <td>0.0</td>\n      <td>Current Crypto Prices BTC USD ETH USD LTC USD ...</td>\n    </tr>\n    <tr>\n      <th>4</th>\n      <td>1132977092340191232</td>\n      <td>mmursaleen72</td>\n      <td>Muhammad Mursaleen</td>\n      <td>NaN</td>\n      <td>2019-05-27 11:49:23+00</td>\n      <td>0.0</td>\n      <td>0.0</td>\n      <td>0.0</td>\n      <td>Spiv Nosar Baz BITCOIN Is An Asset amp NOT A C...</td>\n    </tr>\n  </tbody>\n</table>\n</div>"
     },
     "execution_count": 8,
     "metadata": {},
     "output_type": "execute_result"
    }
   ],
   "source": [
    "# Apply the preprocessing function to the 'text' column\n",
    "# Apply the preprocessing function to the 'text' column\n",
    "df['text'] = df['text'].apply(preprocess_text)\n",
    "df.head()"
   ],
   "metadata": {
    "collapsed": false,
    "ExecuteTime": {
     "end_time": "2023-10-30T18:42:46.356349Z",
     "start_time": "2023-10-30T18:37:31.056959Z"
    }
   },
   "id": "31996dd55c050468"
  },
  {
   "cell_type": "code",
   "execution_count": 9,
   "outputs": [],
   "source": [
    "# Initialize the VADER sentiment analyzer\n",
    "analyzer = SentimentIntensityAnalyzer()"
   ],
   "metadata": {
    "collapsed": false,
    "ExecuteTime": {
     "end_time": "2023-10-30T18:45:12.199505Z",
     "start_time": "2023-10-30T18:45:12.015348Z"
    }
   },
   "id": "1a142938912e2eff"
  },
  {
   "cell_type": "code",
   "execution_count": 10,
   "outputs": [],
   "source": [
    "# Create a function to apply VADER sentiment analysis and add sentiment scores to the DataFrame\n",
    "def get_sentiment(text):\n",
    "    sentiment = analyzer.polarity_scores(text)\n",
    "    return sentiment\n"
   ],
   "metadata": {
    "collapsed": false,
    "ExecuteTime": {
     "end_time": "2023-10-30T18:45:25.724907Z",
     "start_time": "2023-10-30T18:45:25.695331Z"
    }
   },
   "id": "5f7ed882da7ab4ec"
  },
  {
   "cell_type": "code",
   "execution_count": 11,
   "outputs": [
    {
     "data": {
      "text/plain": "                    id           user             fullname  url  \\\n0  1132977055300300800   KamdemAbdiel        Abdiel kamdem  NaN   \n1  1132977073402736640      bitcointe            Bitcointe  NaN   \n2  1132977023893139456      3eyedbran  Bran - 3 Eyed Raven  NaN   \n3  1132977089089556481  DetroitCrypto          J. Scardina  NaN   \n4  1132977092340191232   mmursaleen72   Muhammad Mursaleen  NaN   \n\n                timestamp  replies  likes  retweets  \\\n0  2019-05-27 11:49:14+00      0.0    0.0       0.0   \n1  2019-05-27 11:49:18+00      0.0    0.0       0.0   \n2  2019-05-27 11:49:06+00      0.0    2.0       1.0   \n3  2019-05-27 11:49:22+00      0.0    0.0       0.0   \n4  2019-05-27 11:49:23+00      0.0    0.0       0.0   \n\n                                                text  \\\n0  appena uscito un nuovo video LES CRYPTOMONNAIE...   \n1  Cardano Digitize Currencies EOS ROI ATampT Bit...   \n2  Another Test tweet that wasnt caught in the st...   \n3  Current Crypto Prices BTC USD ETH USD LTC USD ...   \n4  Spiv Nosar Baz BITCOIN Is An Asset amp NOT A C...   \n\n                                           sentiment  \n0  {'neg': 0.0, 'neu': 1.0, 'pos': 0.0, 'compound...  \n1  {'neg': 0.123, 'neu': 0.877, 'pos': 0.0, 'comp...  \n2  {'neg': 0.0, 'neu': 1.0, 'pos': 0.0, 'compound...  \n3  {'neg': 0.0, 'neu': 1.0, 'pos': 0.0, 'compound...  \n4  {'neg': 0.0, 'neu': 0.783, 'pos': 0.217, 'comp...  ",
      "text/html": "<div>\n<style scoped>\n    .dataframe tbody tr th:only-of-type {\n        vertical-align: middle;\n    }\n\n    .dataframe tbody tr th {\n        vertical-align: top;\n    }\n\n    .dataframe thead th {\n        text-align: right;\n    }\n</style>\n<table border=\"1\" class=\"dataframe\">\n  <thead>\n    <tr style=\"text-align: right;\">\n      <th></th>\n      <th>id</th>\n      <th>user</th>\n      <th>fullname</th>\n      <th>url</th>\n      <th>timestamp</th>\n      <th>replies</th>\n      <th>likes</th>\n      <th>retweets</th>\n      <th>text</th>\n      <th>sentiment</th>\n    </tr>\n  </thead>\n  <tbody>\n    <tr>\n      <th>0</th>\n      <td>1132977055300300800</td>\n      <td>KamdemAbdiel</td>\n      <td>Abdiel kamdem</td>\n      <td>NaN</td>\n      <td>2019-05-27 11:49:14+00</td>\n      <td>0.0</td>\n      <td>0.0</td>\n      <td>0.0</td>\n      <td>appena uscito un nuovo video LES CRYPTOMONNAIE...</td>\n      <td>{'neg': 0.0, 'neu': 1.0, 'pos': 0.0, 'compound...</td>\n    </tr>\n    <tr>\n      <th>1</th>\n      <td>1132977073402736640</td>\n      <td>bitcointe</td>\n      <td>Bitcointe</td>\n      <td>NaN</td>\n      <td>2019-05-27 11:49:18+00</td>\n      <td>0.0</td>\n      <td>0.0</td>\n      <td>0.0</td>\n      <td>Cardano Digitize Currencies EOS ROI ATampT Bit...</td>\n      <td>{'neg': 0.123, 'neu': 0.877, 'pos': 0.0, 'comp...</td>\n    </tr>\n    <tr>\n      <th>2</th>\n      <td>1132977023893139456</td>\n      <td>3eyedbran</td>\n      <td>Bran - 3 Eyed Raven</td>\n      <td>NaN</td>\n      <td>2019-05-27 11:49:06+00</td>\n      <td>0.0</td>\n      <td>2.0</td>\n      <td>1.0</td>\n      <td>Another Test tweet that wasnt caught in the st...</td>\n      <td>{'neg': 0.0, 'neu': 1.0, 'pos': 0.0, 'compound...</td>\n    </tr>\n    <tr>\n      <th>3</th>\n      <td>1132977089089556481</td>\n      <td>DetroitCrypto</td>\n      <td>J. Scardina</td>\n      <td>NaN</td>\n      <td>2019-05-27 11:49:22+00</td>\n      <td>0.0</td>\n      <td>0.0</td>\n      <td>0.0</td>\n      <td>Current Crypto Prices BTC USD ETH USD LTC USD ...</td>\n      <td>{'neg': 0.0, 'neu': 1.0, 'pos': 0.0, 'compound...</td>\n    </tr>\n    <tr>\n      <th>4</th>\n      <td>1132977092340191232</td>\n      <td>mmursaleen72</td>\n      <td>Muhammad Mursaleen</td>\n      <td>NaN</td>\n      <td>2019-05-27 11:49:23+00</td>\n      <td>0.0</td>\n      <td>0.0</td>\n      <td>0.0</td>\n      <td>Spiv Nosar Baz BITCOIN Is An Asset amp NOT A C...</td>\n      <td>{'neg': 0.0, 'neu': 0.783, 'pos': 0.217, 'comp...</td>\n    </tr>\n  </tbody>\n</table>\n</div>"
     },
     "execution_count": 11,
     "metadata": {},
     "output_type": "execute_result"
    }
   ],
   "source": [
    "# Apply the sentiment analysis function to the preprocessed 'text' column\n",
    "df['sentiment'] = df['text'].apply(get_sentiment)\n",
    "\n",
    "df.head()"
   ],
   "metadata": {
    "collapsed": false,
    "ExecuteTime": {
     "end_time": "2023-10-31T08:45:35.629172Z",
     "start_time": "2023-10-31T07:53:48.458634Z"
    }
   },
   "id": "964685300ed7038f"
  },
  {
   "cell_type": "code",
   "execution_count": 13,
   "outputs": [
    {
     "data": {
      "text/plain": "                    id           user             fullname  url  \\\n0  1132977055300300800   KamdemAbdiel        Abdiel kamdem  NaN   \n1  1132977073402736640      bitcointe            Bitcointe  NaN   \n2  1132977023893139456      3eyedbran  Bran - 3 Eyed Raven  NaN   \n3  1132977089089556481  DetroitCrypto          J. Scardina  NaN   \n4  1132977092340191232   mmursaleen72   Muhammad Mursaleen  NaN   \n\n                timestamp  replies  likes  retweets  \\\n0  2019-05-27 11:49:14+00      0.0    0.0       0.0   \n1  2019-05-27 11:49:18+00      0.0    0.0       0.0   \n2  2019-05-27 11:49:06+00      0.0    2.0       1.0   \n3  2019-05-27 11:49:22+00      0.0    0.0       0.0   \n4  2019-05-27 11:49:23+00      0.0    0.0       0.0   \n\n                                                text  \\\n0  appena uscito un nuovo video LES CRYPTOMONNAIE...   \n1  Cardano Digitize Currencies EOS ROI ATampT Bit...   \n2  Another Test tweet that wasnt caught in the st...   \n3  Current Crypto Prices BTC USD ETH USD LTC USD ...   \n4  Spiv Nosar Baz BITCOIN Is An Asset amp NOT A C...   \n\n                                           sentiment  compound_sentiment  \n0  {'neg': 0.0, 'neu': 1.0, 'pos': 0.0, 'compound...              0.0000  \n1  {'neg': 0.123, 'neu': 0.877, 'pos': 0.0, 'comp...             -0.1027  \n2  {'neg': 0.0, 'neu': 1.0, 'pos': 0.0, 'compound...              0.0000  \n3  {'neg': 0.0, 'neu': 1.0, 'pos': 0.0, 'compound...              0.0000  \n4  {'neg': 0.0, 'neu': 0.783, 'pos': 0.217, 'comp...              0.3612  ",
      "text/html": "<div>\n<style scoped>\n    .dataframe tbody tr th:only-of-type {\n        vertical-align: middle;\n    }\n\n    .dataframe tbody tr th {\n        vertical-align: top;\n    }\n\n    .dataframe thead th {\n        text-align: right;\n    }\n</style>\n<table border=\"1\" class=\"dataframe\">\n  <thead>\n    <tr style=\"text-align: right;\">\n      <th></th>\n      <th>id</th>\n      <th>user</th>\n      <th>fullname</th>\n      <th>url</th>\n      <th>timestamp</th>\n      <th>replies</th>\n      <th>likes</th>\n      <th>retweets</th>\n      <th>text</th>\n      <th>sentiment</th>\n      <th>compound_sentiment</th>\n    </tr>\n  </thead>\n  <tbody>\n    <tr>\n      <th>0</th>\n      <td>1132977055300300800</td>\n      <td>KamdemAbdiel</td>\n      <td>Abdiel kamdem</td>\n      <td>NaN</td>\n      <td>2019-05-27 11:49:14+00</td>\n      <td>0.0</td>\n      <td>0.0</td>\n      <td>0.0</td>\n      <td>appena uscito un nuovo video LES CRYPTOMONNAIE...</td>\n      <td>{'neg': 0.0, 'neu': 1.0, 'pos': 0.0, 'compound...</td>\n      <td>0.0000</td>\n    </tr>\n    <tr>\n      <th>1</th>\n      <td>1132977073402736640</td>\n      <td>bitcointe</td>\n      <td>Bitcointe</td>\n      <td>NaN</td>\n      <td>2019-05-27 11:49:18+00</td>\n      <td>0.0</td>\n      <td>0.0</td>\n      <td>0.0</td>\n      <td>Cardano Digitize Currencies EOS ROI ATampT Bit...</td>\n      <td>{'neg': 0.123, 'neu': 0.877, 'pos': 0.0, 'comp...</td>\n      <td>-0.1027</td>\n    </tr>\n    <tr>\n      <th>2</th>\n      <td>1132977023893139456</td>\n      <td>3eyedbran</td>\n      <td>Bran - 3 Eyed Raven</td>\n      <td>NaN</td>\n      <td>2019-05-27 11:49:06+00</td>\n      <td>0.0</td>\n      <td>2.0</td>\n      <td>1.0</td>\n      <td>Another Test tweet that wasnt caught in the st...</td>\n      <td>{'neg': 0.0, 'neu': 1.0, 'pos': 0.0, 'compound...</td>\n      <td>0.0000</td>\n    </tr>\n    <tr>\n      <th>3</th>\n      <td>1132977089089556481</td>\n      <td>DetroitCrypto</td>\n      <td>J. Scardina</td>\n      <td>NaN</td>\n      <td>2019-05-27 11:49:22+00</td>\n      <td>0.0</td>\n      <td>0.0</td>\n      <td>0.0</td>\n      <td>Current Crypto Prices BTC USD ETH USD LTC USD ...</td>\n      <td>{'neg': 0.0, 'neu': 1.0, 'pos': 0.0, 'compound...</td>\n      <td>0.0000</td>\n    </tr>\n    <tr>\n      <th>4</th>\n      <td>1132977092340191232</td>\n      <td>mmursaleen72</td>\n      <td>Muhammad Mursaleen</td>\n      <td>NaN</td>\n      <td>2019-05-27 11:49:23+00</td>\n      <td>0.0</td>\n      <td>0.0</td>\n      <td>0.0</td>\n      <td>Spiv Nosar Baz BITCOIN Is An Asset amp NOT A C...</td>\n      <td>{'neg': 0.0, 'neu': 0.783, 'pos': 0.217, 'comp...</td>\n      <td>0.3612</td>\n    </tr>\n  </tbody>\n</table>\n</div>"
     },
     "execution_count": 13,
     "metadata": {},
     "output_type": "execute_result"
    }
   ],
   "source": [
    "# Extract compound sentiment scores\n",
    "df['compound_sentiment'] = df['sentiment'].apply(lambda x: x['compound'])\n",
    "df.head()"
   ],
   "metadata": {
    "collapsed": false,
    "ExecuteTime": {
     "end_time": "2023-10-31T08:58:09.314115Z",
     "start_time": "2023-10-31T08:57:06.154262Z"
    }
   },
   "id": "3256677162b1f53"
  },
  {
   "cell_type": "code",
   "execution_count": 22,
   "outputs": [
    {
     "data": {
      "text/plain": "Downloading (…)okenizer_config.json:   0%|          | 0.00/252 [00:00<?, ?B/s]",
      "application/vnd.jupyter.widget-view+json": {
       "version_major": 2,
       "version_minor": 0,
       "model_id": "9fb4e63706ce4f648bbb2a53f07e7946"
      }
     },
     "metadata": {},
     "output_type": "display_data"
    },
    {
     "data": {
      "text/plain": "Downloading (…)solve/main/vocab.txt:   0%|          | 0.00/232k [00:00<?, ?B/s]",
      "application/vnd.jupyter.widget-view+json": {
       "version_major": 2,
       "version_minor": 0,
       "model_id": "51be9db0ae8e4a3fa63b3e0e082c787c"
      }
     },
     "metadata": {},
     "output_type": "display_data"
    },
    {
     "data": {
      "text/plain": "Downloading (…)cial_tokens_map.json:   0%|          | 0.00/112 [00:00<?, ?B/s]",
      "application/vnd.jupyter.widget-view+json": {
       "version_major": 2,
       "version_minor": 0,
       "model_id": "044ae485e58b483299e2579410a6508b"
      }
     },
     "metadata": {},
     "output_type": "display_data"
    },
    {
     "data": {
      "text/plain": "Downloading (…)lve/main/config.json:   0%|          | 0.00/758 [00:00<?, ?B/s]",
      "application/vnd.jupyter.widget-view+json": {
       "version_major": 2,
       "version_minor": 0,
       "model_id": "7e6622aab4a7471c9376f3ff88c2287f"
      }
     },
     "metadata": {},
     "output_type": "display_data"
    },
    {
     "data": {
      "text/plain": "Downloading pytorch_model.bin:   0%|          | 0.00/438M [00:00<?, ?B/s]",
      "application/vnd.jupyter.widget-view+json": {
       "version_major": 2,
       "version_minor": 0,
       "model_id": "bc038acf65c8445f95ede7b267d9216c"
      }
     },
     "metadata": {},
     "output_type": "display_data"
    }
   ],
   "source": [
    "# Initialize finBERT sentiment model\n",
    "finbert_model_name = \"ProsusAI/finbert\"\n",
    "max_length = 512  # You can adjust this value as needed\n",
    "finbert_tokenizer = BertTokenizer.from_pretrained(finbert_model_name, max_length=max_length)\n",
    "finbert_model = BertForSequenceClassification.from_pretrained(finbert_model_name)"
   ],
   "metadata": {
    "collapsed": false,
    "ExecuteTime": {
     "end_time": "2023-10-31T14:42:29.597062Z",
     "start_time": "2023-10-31T14:40:56.198618Z"
    }
   },
   "id": "59b4b730c1f13865"
  },
  {
   "cell_type": "code",
   "execution_count": 23,
   "outputs": [],
   "source": [
    "# Function to compute finBERT sentiment scores\n",
    "def compute_finbert_sentiment(text):\n",
    "    tokens = finbert_tokenizer(text, return_tensors='pt', truncation=True, padding=True, max_length=max_length)\n",
    "    \n",
    "    with torch.no_grad():\n",
    "        output = finbert_model(**tokens)\n",
    "        logit = output.logits\n",
    "    return logit"
   ],
   "metadata": {
    "collapsed": false,
    "ExecuteTime": {
     "end_time": "2023-10-31T14:42:43.432106Z",
     "start_time": "2023-10-31T14:42:43.409612Z"
    }
   },
   "id": "8258c38384c17b40"
  },
  {
   "cell_type": "code",
   "execution_count": 35,
   "outputs": [
    {
     "ename": "AttributeError",
     "evalue": "'str' object has no attribute 'apply'",
     "output_type": "error",
     "traceback": [
      "\u001B[0;31m---------------------------------------------------------------------------\u001B[0m",
      "\u001B[0;31mAttributeError\u001B[0m                            Traceback (most recent call last)",
      "Cell \u001B[0;32mIn[35], line 1\u001B[0m\n\u001B[0;32m----> 1\u001B[0m df[\u001B[38;5;124m'\u001B[39m\u001B[38;5;124mfinbert_sentiment\u001B[39m\u001B[38;5;124m'\u001B[39m][\u001B[38;5;241m1\u001B[39m] \u001B[38;5;241m=\u001B[39m \u001B[43mdf\u001B[49m\u001B[43m[\u001B[49m\u001B[38;5;124;43m'\u001B[39;49m\u001B[38;5;124;43mtext\u001B[39;49m\u001B[38;5;124;43m'\u001B[39;49m\u001B[43m]\u001B[49m\u001B[43m[\u001B[49m\u001B[38;5;241;43m1\u001B[39;49m\u001B[43m]\u001B[49m\u001B[38;5;241;43m.\u001B[39;49m\u001B[43mapply\u001B[49m(compute_finbert_sentiment)\n\u001B[1;32m      2\u001B[0m \u001B[38;5;66;03m# Extract the sentiment score from finBERT results\u001B[39;00m\n\u001B[1;32m      3\u001B[0m df[\u001B[38;5;124m'\u001B[39m\u001B[38;5;124mfinbert_score\u001B[39m\u001B[38;5;124m'\u001B[39m] \u001B[38;5;241m=\u001B[39m df[\u001B[38;5;124m'\u001B[39m\u001B[38;5;124mfinbert_sentiment\u001B[39m\u001B[38;5;124m'\u001B[39m]\u001B[38;5;241m.\u001B[39mapply(\u001B[38;5;28;01mlambda\u001B[39;00m x: x[\u001B[38;5;241m0\u001B[39m][\u001B[38;5;241m0\u001B[39m]\u001B[38;5;241m.\u001B[39mitem())\n",
      "\u001B[0;31mAttributeError\u001B[0m: 'str' object has no attribute 'apply'"
     ]
    }
   ],
   "source": [
    "df['finbert_sentiment'][1] = df['text'].apply(compute_finbert_sentiment)\n",
    "# Extract the sentiment score from finBERT results\n",
    "df['finbert_score'] = df['finbert_sentiment'].apply(lambda x: x[0][0].item())\n",
    "df.head()"
   ],
   "metadata": {
    "collapsed": false,
    "ExecuteTime": {
     "end_time": "2023-10-31T20:38:46.518115Z",
     "start_time": "2023-10-31T20:38:46.307251Z"
    }
   },
   "id": "de5a2737db4ef3a2"
  },
  {
   "cell_type": "code",
   "execution_count": null,
   "outputs": [],
   "source": [
    "# Print the DataFrame with sentiment scores\n",
    "print(df[['text', 'compound_score', 'finbert_score']])"
   ],
   "metadata": {
    "collapsed": false
   },
   "id": "9a4c8b8f24801589"
  },
  {
   "cell_type": "code",
   "execution_count": null,
   "outputs": [],
   "source": [],
   "metadata": {
    "collapsed": false
   },
   "id": "cad3646a0dac7b8a"
  }
 ],
 "metadata": {
  "kernelspec": {
   "display_name": "Python 3",
   "language": "python",
   "name": "python3"
  },
  "language_info": {
   "codemirror_mode": {
    "name": "ipython",
    "version": 2
   },
   "file_extension": ".py",
   "mimetype": "text/x-python",
   "name": "python",
   "nbconvert_exporter": "python",
   "pygments_lexer": "ipython2",
   "version": "2.7.6"
  }
 },
 "nbformat": 4,
 "nbformat_minor": 5
}
